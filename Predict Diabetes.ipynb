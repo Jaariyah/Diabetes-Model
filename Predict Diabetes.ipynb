{
 "cells": [
  {
   "cell_type": "code",
   "execution_count": 2,
   "id": "c35176cc",
   "metadata": {},
   "outputs": [],
   "source": [
    "import pandas as pd\n",
    "import pickle"
   ]
  },
  {
   "cell_type": "code",
   "execution_count": 3,
   "id": "768c9545",
   "metadata": {},
   "outputs": [],
   "source": [
    "df = {'Pregnancies': 1,\n",
    "  'Glucose': 300,\n",
    "  'BloodPressure': 66,\n",
    "  'SkinThickness': 29,\n",
    "  'Insulin': 100,\n",
    "  'BMI': 33.6,\n",
    "  'DiabetesPedigreeFunction': 0.327,\n",
    "  'Age': 5\n",
    "}"
   ]
  },
  {
   "cell_type": "code",
   "execution_count": 4,
   "id": "b4f938cd",
   "metadata": {},
   "outputs": [
    {
     "data": {
      "text/plain": [
       "{'Pregnancies': 1,\n",
       " 'Glucose': 300,\n",
       " 'BloodPressure': 66,\n",
       " 'SkinThickness': 29,\n",
       " 'Insulin': 100,\n",
       " 'BMI': 33.6,\n",
       " 'DiabetesPedigreeFunction': 0.327,\n",
       " 'Age': 5}"
      ]
     },
     "execution_count": 4,
     "metadata": {},
     "output_type": "execute_result"
    }
   ],
   "source": [
    "df"
   ]
  },
  {
   "cell_type": "code",
   "execution_count": 5,
   "id": "88623694",
   "metadata": {},
   "outputs": [],
   "source": [
    "df = pd.DataFrame([df])"
   ]
  },
  {
   "cell_type": "markdown",
   "id": "8a979251",
   "metadata": {},
   "source": [
    "# Pred SVC"
   ]
  },
  {
   "cell_type": "code",
   "execution_count": 6,
   "id": "74ebe231",
   "metadata": {},
   "outputs": [],
   "source": [
    "model_SVC = pickle.load(open('SVM_Model.sav', 'rb'))"
   ]
  },
  {
   "cell_type": "code",
   "execution_count": 7,
   "id": "b7738504",
   "metadata": {},
   "outputs": [],
   "source": [
    "pred_SVC = model_SVC.predict(df)\n",
    "proba_SVC = model_SVC.predict_proba(df)\n",
    "proba_SVC = round(proba_SVC[0][0] * 100, 2)"
   ]
  },
  {
   "cell_type": "code",
   "execution_count": 8,
   "id": "46e69ac0",
   "metadata": {},
   "outputs": [
    {
     "name": "stdout",
     "output_type": "stream",
     "text": [
      "Diabetes\n"
     ]
    }
   ],
   "source": [
    "if pred_SVC[0] == 0:\n",
    "    print('No Diabetes')\n",
    "else :\n",
    "    print('Diabetes')"
   ]
  }
 ],
 "metadata": {
  "kernelspec": {
   "display_name": "Python 3 (ipykernel)",
   "language": "python",
   "name": "python3"
  },
  "language_info": {
   "codemirror_mode": {
    "name": "ipython",
    "version": 3
   },
   "file_extension": ".py",
   "mimetype": "text/x-python",
   "name": "python",
   "nbconvert_exporter": "python",
   "pygments_lexer": "ipython3",
   "version": "3.11.1"
  }
 },
 "nbformat": 4,
 "nbformat_minor": 5
}
