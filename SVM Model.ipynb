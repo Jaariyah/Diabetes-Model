{
 "cells": [
  {
   "cell_type": "markdown",
   "id": "0d92eb36",
   "metadata": {},
   "source": [
    "# Diabetes"
   ]
  },
  {
   "cell_type": "markdown",
   "id": "9a72d1c2",
   "metadata": {},
   "source": [
    "# STEP 2 - Improve Model SVM"
   ]
  },
  {
   "cell_type": "markdown",
   "id": "b7738262",
   "metadata": {},
   "source": [
    "Mencari Algoritma yang cocok untuk problem yang akan di selesaikan"
   ]
  },
  {
   "cell_type": "code",
   "execution_count": 1,
   "id": "86a7f515",
   "metadata": {},
   "outputs": [],
   "source": [
    "# lib standart\n",
    "import numpy as np \n",
    "import pandas as pd\n",
    "import matplotlib.pyplot as plt\n",
    "import seaborn as sns\n",
    "\n",
    "# Untuk split data\n",
    "from sklearn.model_selection import train_test_split\n",
    "\n",
    "# Untuk Algoritma ML yang akan di pakai\n",
    "from sklearn.linear_model import LogisticRegression\n",
    "from sklearn.svm import SVC\n",
    "from sklearn.ensemble import RandomForestClassifier\n",
    "\n",
    "# untuk impute nilai kosong\n",
    "from sklearn.impute import SimpleImputer\n",
    "\n",
    "# untuk scale data\n",
    "from sklearn.preprocessing import StandardScaler, MinMaxScaler, RobustScaler, PolynomialFeatures\n",
    "\n",
    "# untuk one hot data kategorik\n",
    "from sklearn.preprocessing import OneHotEncoder\n",
    "\n",
    "# untuk PCA\n",
    "from sklearn.decomposition import PCA\n",
    "\n",
    "# untuk membangun pipeline ML\n",
    "from sklearn.pipeline import Pipeline\n",
    "\n",
    "# bagian dari pipe line untuk handling kolom \n",
    "from sklearn.compose import ColumnTransformer\n",
    "\n",
    "# untuk tuning hyperparameter\n",
    "from sklearn.model_selection import GridSearchCV\n",
    "\n",
    "# menghitung nilai f1\n",
    "from sklearn.metrics import f1_score , precision_score, recall_score, accuracy_score, classification_report\n",
    "\n",
    "# menyimpan model\n",
    "import pickle\n",
    "\n",
    "# remove outlier\n",
    "from scipy import stats"
   ]
  },
  {
   "cell_type": "markdown",
   "id": "5240780c",
   "metadata": {},
   "source": [
    "https://towardsdatascience.com/workflow-of-a-machine-learning-project-ec1dba419b94"
   ]
  },
  {
   "cell_type": "code",
   "execution_count": 2,
   "id": "935b1b8c",
   "metadata": {},
   "outputs": [],
   "source": [
    "df = pd.read_csv(\"diabetes.csv\")\n",
    "data = pd.read_csv(\"diabetes.csv\")"
   ]
  },
  {
   "cell_type": "code",
   "execution_count": 3,
   "id": "8f02757a",
   "metadata": {},
   "outputs": [
    {
     "data": {
      "text/html": [
       "<div>\n",
       "<style scoped>\n",
       "    .dataframe tbody tr th:only-of-type {\n",
       "        vertical-align: middle;\n",
       "    }\n",
       "\n",
       "    .dataframe tbody tr th {\n",
       "        vertical-align: top;\n",
       "    }\n",
       "\n",
       "    .dataframe thead th {\n",
       "        text-align: right;\n",
       "    }\n",
       "</style>\n",
       "<table border=\"1\" class=\"dataframe\">\n",
       "  <thead>\n",
       "    <tr style=\"text-align: right;\">\n",
       "      <th></th>\n",
       "      <th>Pregnancies</th>\n",
       "      <th>Glucose</th>\n",
       "      <th>BloodPressure</th>\n",
       "      <th>SkinThickness</th>\n",
       "      <th>Insulin</th>\n",
       "      <th>BMI</th>\n",
       "      <th>DiabetesPedigreeFunction</th>\n",
       "      <th>Age</th>\n",
       "      <th>Outcome</th>\n",
       "    </tr>\n",
       "  </thead>\n",
       "  <tbody>\n",
       "    <tr>\n",
       "      <th>0</th>\n",
       "      <td>6</td>\n",
       "      <td>148</td>\n",
       "      <td>72</td>\n",
       "      <td>35</td>\n",
       "      <td>0</td>\n",
       "      <td>33.6</td>\n",
       "      <td>0.627</td>\n",
       "      <td>50</td>\n",
       "      <td>1</td>\n",
       "    </tr>\n",
       "    <tr>\n",
       "      <th>1</th>\n",
       "      <td>1</td>\n",
       "      <td>85</td>\n",
       "      <td>66</td>\n",
       "      <td>29</td>\n",
       "      <td>0</td>\n",
       "      <td>26.6</td>\n",
       "      <td>0.351</td>\n",
       "      <td>31</td>\n",
       "      <td>0</td>\n",
       "    </tr>\n",
       "    <tr>\n",
       "      <th>2</th>\n",
       "      <td>8</td>\n",
       "      <td>183</td>\n",
       "      <td>64</td>\n",
       "      <td>0</td>\n",
       "      <td>0</td>\n",
       "      <td>23.3</td>\n",
       "      <td>0.672</td>\n",
       "      <td>32</td>\n",
       "      <td>1</td>\n",
       "    </tr>\n",
       "    <tr>\n",
       "      <th>3</th>\n",
       "      <td>1</td>\n",
       "      <td>89</td>\n",
       "      <td>66</td>\n",
       "      <td>23</td>\n",
       "      <td>94</td>\n",
       "      <td>28.1</td>\n",
       "      <td>0.167</td>\n",
       "      <td>21</td>\n",
       "      <td>0</td>\n",
       "    </tr>\n",
       "    <tr>\n",
       "      <th>4</th>\n",
       "      <td>0</td>\n",
       "      <td>137</td>\n",
       "      <td>40</td>\n",
       "      <td>35</td>\n",
       "      <td>168</td>\n",
       "      <td>43.1</td>\n",
       "      <td>2.288</td>\n",
       "      <td>33</td>\n",
       "      <td>1</td>\n",
       "    </tr>\n",
       "  </tbody>\n",
       "</table>\n",
       "</div>"
      ],
      "text/plain": [
       "   Pregnancies  Glucose  BloodPressure  SkinThickness  Insulin   BMI  \\\n",
       "0            6      148             72             35        0  33.6   \n",
       "1            1       85             66             29        0  26.6   \n",
       "2            8      183             64              0        0  23.3   \n",
       "3            1       89             66             23       94  28.1   \n",
       "4            0      137             40             35      168  43.1   \n",
       "\n",
       "   DiabetesPedigreeFunction  Age  Outcome  \n",
       "0                     0.627   50        1  \n",
       "1                     0.351   31        0  \n",
       "2                     0.672   32        1  \n",
       "3                     0.167   21        0  \n",
       "4                     2.288   33        1  "
      ]
     },
     "execution_count": 3,
     "metadata": {},
     "output_type": "execute_result"
    }
   ],
   "source": [
    "data.head()"
   ]
  },
  {
   "cell_type": "code",
   "execution_count": 4,
   "id": "5d6e3724",
   "metadata": {},
   "outputs": [],
   "source": [
    "data = data.replace(0, np.nan)\n",
    "data['Outcome'] = data['Outcome'].fillna(0) "
   ]
  },
  {
   "cell_type": "code",
   "execution_count": 5,
   "id": "add39eda",
   "metadata": {},
   "outputs": [
    {
     "data": {
      "text/html": [
       "<div>\n",
       "<style scoped>\n",
       "    .dataframe tbody tr th:only-of-type {\n",
       "        vertical-align: middle;\n",
       "    }\n",
       "\n",
       "    .dataframe tbody tr th {\n",
       "        vertical-align: top;\n",
       "    }\n",
       "\n",
       "    .dataframe thead th {\n",
       "        text-align: right;\n",
       "    }\n",
       "</style>\n",
       "<table border=\"1\" class=\"dataframe\">\n",
       "  <thead>\n",
       "    <tr style=\"text-align: right;\">\n",
       "      <th></th>\n",
       "      <th>Outcome</th>\n",
       "    </tr>\n",
       "  </thead>\n",
       "  <tbody>\n",
       "    <tr>\n",
       "      <th>Outcome</th>\n",
       "      <td>1.000000</td>\n",
       "    </tr>\n",
       "    <tr>\n",
       "      <th>Glucose</th>\n",
       "      <td>0.494650</td>\n",
       "    </tr>\n",
       "    <tr>\n",
       "      <th>BMI</th>\n",
       "      <td>0.313680</td>\n",
       "    </tr>\n",
       "    <tr>\n",
       "      <th>Insulin</th>\n",
       "      <td>0.303454</td>\n",
       "    </tr>\n",
       "    <tr>\n",
       "      <th>Pregnancies</th>\n",
       "      <td>0.268218</td>\n",
       "    </tr>\n",
       "    <tr>\n",
       "      <th>SkinThickness</th>\n",
       "      <td>0.259491</td>\n",
       "    </tr>\n",
       "    <tr>\n",
       "      <th>Age</th>\n",
       "      <td>0.238356</td>\n",
       "    </tr>\n",
       "    <tr>\n",
       "      <th>DiabetesPedigreeFunction</th>\n",
       "      <td>0.173844</td>\n",
       "    </tr>\n",
       "    <tr>\n",
       "      <th>BloodPressure</th>\n",
       "      <td>0.170589</td>\n",
       "    </tr>\n",
       "  </tbody>\n",
       "</table>\n",
       "</div>"
      ],
      "text/plain": [
       "                           Outcome\n",
       "Outcome                   1.000000\n",
       "Glucose                   0.494650\n",
       "BMI                       0.313680\n",
       "Insulin                   0.303454\n",
       "Pregnancies               0.268218\n",
       "SkinThickness             0.259491\n",
       "Age                       0.238356\n",
       "DiabetesPedigreeFunction  0.173844\n",
       "BloodPressure             0.170589"
      ]
     },
     "execution_count": 5,
     "metadata": {},
     "output_type": "execute_result"
    }
   ],
   "source": [
    "corre = data.corr().sort_values('Outcome', ascending=False)[['Outcome']]\n",
    "corre"
   ]
  },
  {
   "cell_type": "code",
   "execution_count": 6,
   "id": "158b8c41",
   "metadata": {},
   "outputs": [
    {
     "data": {
      "image/png": "[encoded data removed]",
      "text/plain": [
       "<Figure size 1600x600 with 2 Axes>"
      ]
     },
     "metadata": {},
     "output_type": "display_data"
    }
   ],
   "source": [
    "plt.figure(figsize=(16,6))\n",
    "sns.heatmap(data=corre, annot=True)\n",
    "plt.show()"
   ]
  },
  {
   "cell_type": "code",
   "execution_count": 7,
   "id": "10c22183",
   "metadata": {},
   "outputs": [
    {
     "data": {
      "text/plain": [
       "(768, 9)"
      ]
     },
     "execution_count": 7,
     "metadata": {},
     "output_type": "execute_result"
    }
   ],
   "source": [
    "data.shape"
   ]
  },
  {
   "cell_type": "code",
   "execution_count": 8,
   "id": "28f8208f",
   "metadata": {},
   "outputs": [
    {
     "data": {
      "text/plain": [
       "Pregnancies                 0.144531\n",
       "Glucose                     0.006510\n",
       "BloodPressure               0.045573\n",
       "SkinThickness               0.295573\n",
       "Insulin                     0.486979\n",
       "BMI                         0.014323\n",
       "DiabetesPedigreeFunction    0.000000\n",
       "Age                         0.000000\n",
       "Outcome                     0.000000\n",
       "dtype: float64"
      ]
     },
     "execution_count": 8,
     "metadata": {},
     "output_type": "execute_result"
    }
   ],
   "source": [
    "data.isnull().sum() / data.shape[0]"
   ]
  },
  {
   "cell_type": "code",
   "execution_count": 9,
   "id": "63d502e2",
   "metadata": {},
   "outputs": [
    {
     "data": {
      "text/html": [
       "<div>\n",
       "<style scoped>\n",
       "    .dataframe tbody tr th:only-of-type {\n",
       "        vertical-align: middle;\n",
       "    }\n",
       "\n",
       "    .dataframe tbody tr th {\n",
       "        vertical-align: top;\n",
       "    }\n",
       "\n",
       "    .dataframe thead th {\n",
       "        text-align: right;\n",
       "    }\n",
       "</style>\n",
       "<table border=\"1\" class=\"dataframe\">\n",
       "  <thead>\n",
       "    <tr style=\"text-align: right;\">\n",
       "      <th></th>\n",
       "      <th>Pregnancies</th>\n",
       "      <th>Glucose</th>\n",
       "      <th>BloodPressure</th>\n",
       "      <th>SkinThickness</th>\n",
       "      <th>Insulin</th>\n",
       "      <th>BMI</th>\n",
       "      <th>DiabetesPedigreeFunction</th>\n",
       "      <th>Age</th>\n",
       "      <th>Outcome</th>\n",
       "    </tr>\n",
       "  </thead>\n",
       "  <tbody>\n",
       "    <tr>\n",
       "      <th>count</th>\n",
       "      <td>657.000000</td>\n",
       "      <td>763.000000</td>\n",
       "      <td>733.000000</td>\n",
       "      <td>541.000000</td>\n",
       "      <td>394.000000</td>\n",
       "      <td>757.000000</td>\n",
       "      <td>768.000000</td>\n",
       "      <td>768.000000</td>\n",
       "      <td>768.000000</td>\n",
       "    </tr>\n",
       "    <tr>\n",
       "      <th>mean</th>\n",
       "      <td>4.494673</td>\n",
       "      <td>121.686763</td>\n",
       "      <td>72.405184</td>\n",
       "      <td>29.153420</td>\n",
       "      <td>155.548223</td>\n",
       "      <td>32.457464</td>\n",
       "      <td>0.471876</td>\n",
       "      <td>33.240885</td>\n",
       "      <td>0.348958</td>\n",
       "    </tr>\n",
       "    <tr>\n",
       "      <th>std</th>\n",
       "      <td>3.217291</td>\n",
       "      <td>30.535641</td>\n",
       "      <td>12.382158</td>\n",
       "      <td>10.476982</td>\n",
       "      <td>118.775855</td>\n",
       "      <td>6.924988</td>\n",
       "      <td>0.331329</td>\n",
       "      <td>11.760232</td>\n",
       "      <td>0.476951</td>\n",
       "    </tr>\n",
       "    <tr>\n",
       "      <th>min</th>\n",
       "      <td>1.000000</td>\n",
       "      <td>44.000000</td>\n",
       "      <td>24.000000</td>\n",
       "      <td>7.000000</td>\n",
       "      <td>14.000000</td>\n",
       "      <td>18.200000</td>\n",
       "      <td>0.078000</td>\n",
       "      <td>21.000000</td>\n",
       "      <td>0.000000</td>\n",
       "    </tr>\n",
       "    <tr>\n",
       "      <th>25%</th>\n",
       "      <td>2.000000</td>\n",
       "      <td>99.000000</td>\n",
       "      <td>64.000000</td>\n",
       "      <td>22.000000</td>\n",
       "      <td>76.250000</td>\n",
       "      <td>27.500000</td>\n",
       "      <td>0.243750</td>\n",
       "      <td>24.000000</td>\n",
       "      <td>0.000000</td>\n",
       "    </tr>\n",
       "    <tr>\n",
       "      <th>50%</th>\n",
       "      <td>4.000000</td>\n",
       "      <td>117.000000</td>\n",
       "      <td>72.000000</td>\n",
       "      <td>29.000000</td>\n",
       "      <td>125.000000</td>\n",
       "      <td>32.300000</td>\n",
       "      <td>0.372500</td>\n",
       "      <td>29.000000</td>\n",
       "      <td>0.000000</td>\n",
       "    </tr>\n",
       "    <tr>\n",
       "      <th>75%</th>\n",
       "      <td>7.000000</td>\n",
       "      <td>141.000000</td>\n",
       "      <td>80.000000</td>\n",
       "      <td>36.000000</td>\n",
       "      <td>190.000000</td>\n",
       "      <td>36.600000</td>\n",
       "      <td>0.626250</td>\n",
       "      <td>41.000000</td>\n",
       "      <td>1.000000</td>\n",
       "    </tr>\n",
       "    <tr>\n",
       "      <th>max</th>\n",
       "      <td>17.000000</td>\n",
       "      <td>199.000000</td>\n",
       "      <td>122.000000</td>\n",
       "      <td>99.000000</td>\n",
       "      <td>846.000000</td>\n",
       "      <td>67.100000</td>\n",
       "      <td>2.420000</td>\n",
       "      <td>81.000000</td>\n",
       "      <td>1.000000</td>\n",
       "    </tr>\n",
       "  </tbody>\n",
       "</table>\n",
       "</div>"
      ],
      "text/plain": [
       "       Pregnancies     Glucose  BloodPressure  SkinThickness     Insulin  \\\n",
       "count   657.000000  763.000000     733.000000     541.000000  394.000000   \n",
       "mean      4.494673  121.686763      72.405184      29.153420  155.548223   \n",
       "std       3.217291   30.535641      12.382158      10.476982  118.775855   \n",
       "min       1.000000   44.000000      24.000000       7.000000   14.000000   \n",
       "25%       2.000000   99.000000      64.000000      22.000000   76.250000   \n",
       "50%       4.000000  117.000000      72.000000      29.000000  125.000000   \n",
       "75%       7.000000  141.000000      80.000000      36.000000  190.000000   \n",
       "max      17.000000  199.000000     122.000000      99.000000  846.000000   \n",
       "\n",
       "              BMI  DiabetesPedigreeFunction         Age     Outcome  \n",
       "count  757.000000                768.000000  768.000000  768.000000  \n",
       "mean    32.457464                  0.471876   33.240885    0.348958  \n",
       "std      6.924988                  0.331329   11.760232    0.476951  \n",
       "min     18.200000                  0.078000   21.000000    0.000000  \n",
       "25%     27.500000                  0.243750   24.000000    0.000000  \n",
       "50%     32.300000                  0.372500   29.000000    0.000000  \n",
       "75%     36.600000                  0.626250   41.000000    1.000000  \n",
       "max     67.100000                  2.420000   81.000000    1.000000  "
      ]
     },
     "execution_count": 9,
     "metadata": {},
     "output_type": "execute_result"
    }
   ],
   "source": [
    "data.describe()"
   ]
  },
  {
   "cell_type": "code",
   "execution_count": 10,
   "id": "f7f77db0",
   "metadata": {},
   "outputs": [
    {
     "data": {
      "text/html": [
       "<div>\n",
       "<style scoped>\n",
       "    .dataframe tbody tr th:only-of-type {\n",
       "        vertical-align: middle;\n",
       "    }\n",
       "\n",
       "    .dataframe tbody tr th {\n",
       "        vertical-align: top;\n",
       "    }\n",
       "\n",
       "    .dataframe thead th {\n",
       "        text-align: right;\n",
       "    }\n",
       "</style>\n",
       "<table border=\"1\" class=\"dataframe\">\n",
       "  <thead>\n",
       "    <tr style=\"text-align: right;\">\n",
       "      <th>Outcome</th>\n",
       "      <th>0.0</th>\n",
       "      <th>1.0</th>\n",
       "    </tr>\n",
       "    <tr>\n",
       "      <th>Outcome</th>\n",
       "      <th></th>\n",
       "      <th></th>\n",
       "    </tr>\n",
       "  </thead>\n",
       "  <tbody>\n",
       "    <tr>\n",
       "      <th>0.0</th>\n",
       "      <td>500</td>\n",
       "      <td>0</td>\n",
       "    </tr>\n",
       "    <tr>\n",
       "      <th>1.0</th>\n",
       "      <td>0</td>\n",
       "      <td>268</td>\n",
       "    </tr>\n",
       "  </tbody>\n",
       "</table>\n",
       "</div>"
      ],
      "text/plain": [
       "Outcome  0.0  1.0\n",
       "Outcome          \n",
       "0.0      500    0\n",
       "1.0        0  268"
      ]
     },
     "execution_count": 10,
     "metadata": {},
     "output_type": "execute_result"
    }
   ],
   "source": [
    "pd.crosstab(data.Outcome, data.Outcome)"
   ]
  },
  {
   "cell_type": "code",
   "execution_count": 11,
   "id": "183e87e7",
   "metadata": {},
   "outputs": [
    {
     "data": {
      "text/plain": [
       "(0.3489583333333333, 0.6510416666666666)"
      ]
     },
     "execution_count": 11,
     "metadata": {},
     "output_type": "execute_result"
    }
   ],
   "source": [
    "268 / ( 268 + 500 ) , 500 / ( 268 + 500 ) "
   ]
  },
  {
   "cell_type": "markdown",
   "id": "083931dd",
   "metadata": {},
   "source": [
    "# Train-Test split"
   ]
  },
  {
   "cell_type": "code",
   "execution_count": 12,
   "id": "2f4ff050",
   "metadata": {},
   "outputs": [],
   "source": [
    "X = data.drop(['Outcome'], axis=1)\n",
    "y = data['Outcome']"
   ]
  },
  {
   "cell_type": "code",
   "execution_count": 14,
   "id": "b3d50ce3",
   "metadata": {},
   "outputs": [],
   "source": [
    "X_train, X_test, y_train, y_test = train_test_split(X, y, test_size = 0.30, random_state = 4)"
   ]
  },
  {
   "cell_type": "markdown",
   "id": "6b33f0ac",
   "metadata": {},
   "source": [
    "# Featuring Engginering dan Pipeline"
   ]
  },
  {
   "cell_type": "code",
   "execution_count": 15,
   "id": "c917a162",
   "metadata": {},
   "outputs": [],
   "source": [
    "# numerical_pipeline\n",
    "\n",
    "numerical_pipeline = Pipeline([\n",
    "        ('imputer', SimpleImputer(strategy = 'mean')),\n",
    "        ('poli', PolynomialFeatures(2)),\n",
    "        ('scaler', RobustScaler()),\n",
    "        ('pca', PCA(n_components = 6 , whiten = True))\n",
    "    ])"
   ]
  },
  {
   "cell_type": "code",
   "execution_count": 16,
   "id": "566fad14",
   "metadata": {},
   "outputs": [],
   "source": [
    "# preprocessor\n",
    "\n",
    "list_numeric = [\n",
    "                'Glucose', \n",
    "                'BMI',     \n",
    "                'Insulin', \n",
    "                'Pregnancies', \n",
    "                'SkinThickness', \n",
    "                'Age',\n",
    "                'DiabetesPedigreeFunction', \n",
    "                'BloodPressure', \n",
    "\n",
    "            ]\n",
    "\n",
    "\n",
    "preprocessor = ColumnTransformer([\n",
    "        ('numeric', numerical_pipeline, list_numeric)])"
   ]
  },
  {
   "cell_type": "markdown",
   "id": "cdaf8e8e",
   "metadata": {},
   "source": [
    "# Trainning"
   ]
  },
  {
   "cell_type": "markdown",
   "id": "f17c18c6",
   "metadata": {},
   "source": [
    "# SVM Classifier"
   ]
  },
  {
   "cell_type": "code",
   "execution_count": 17,
   "id": "79d3f624",
   "metadata": {},
   "outputs": [],
   "source": [
    "model_SVC = Pipeline([\n",
    "        ('preprocessor', preprocessor),\n",
    "        ('algoritma', SVC(probability=True))\n",
    "    ])"
   ]
  },
  {
   "cell_type": "markdown",
   "id": "3c3e7429",
   "metadata": {},
   "source": [
    "# GridSearchCV"
   ]
  },
  {
   "cell_type": "code",
   "execution_count": 18,
   "id": "bb466954",
   "metadata": {},
   "outputs": [],
   "source": [
    "parameter = {\n",
    "    'algoritma__C'      : [0.01 , 0.1, 1],\n",
    "    'algoritma__gamma'  : [0.01 , 0.1, 1],\n",
    "    'algoritma__kernel' : ['linear','sigmoid','rbf'],\n",
    "    'algoritma__class_weight' : [ {0 : x, 1 : 1-x} for x in [0.1, 0.2, 0.3] ]   \n",
    "}\n",
    "\n",
    "model = GridSearchCV(model_SVC, parameter, cv = 5, scoring = 'f1')"
   ]
  },
  {
   "cell_type": "code",
   "execution_count": 19,
   "id": "02867dbc",
   "metadata": {},
   "outputs": [
    {
     "name": "stdout",
     "output_type": "stream",
     "text": [
      "CPU times: total: 9.23 s\n",
      "Wall time: 24.4 s\n"
     ]
    },
    {
     "data": {
      "text/html": [
       "<style>#sk-container-id-1 {color: black;background-color: white;}#sk-container-id-1 pre{padding: 0;}#sk-container-id-1 div.sk-toggleable {background-color: white;}#sk-container-id-1 label.sk-toggleable__label {cursor: pointer;display: block;width: 100%;margin-bottom: 0;padding: 0.3em;box-sizing: border-box;text-align: center;}#sk-container-id-1 label.sk-toggleable__label-arrow:before {content: \"▸\";float: left;margin-right: 0.25em;color: #696969;}#sk-container-id-1 label.sk-toggleable__label-arrow:hover:before {color: black;}#sk-container-id-1 div.sk-estimator:hover label.sk-toggleable__label-arrow:before {color: black;}#sk-container-id-1 div.sk-toggleable__content {max-height: 0;max-width: 0;overflow: hidden;text-align: left;background-color: #f0f8ff;}#sk-container-id-1 div.sk-toggleable__content pre {margin: 0.2em;color: black;border-radius: 0.25em;background-color: #f0f8ff;}#sk-container-id-1 input.sk-toggleable__control:checked~div.sk-toggleable__content {max-height: 200px;max-width: 100%;overflow: auto;}#sk-container-id-1 input.sk-toggleable__control:checked~label.sk-toggleable__label-arrow:before {content: \"▾\";}#sk-container-id-1 div.sk-estimator input.sk-toggleable__control:checked~label.sk-toggleable__label {background-color: #d4ebff;}#sk-container-id-1 div.sk-label input.sk-toggleable__control:checked~label.sk-toggleable__label {background-color: #d4ebff;}#sk-container-id-1 input.sk-hidden--visually {border: 0;clip: rect(1px 1px 1px 1px);clip: rect(1px, 1px, 1px, 1px);height: 1px;margin: -1px;overflow: hidden;padding: 0;position: absolute;width: 1px;}#sk-container-id-1 div.sk-estimator {font-family: monospace;background-color: #f0f8ff;border: 1px dotted black;border-radius: 0.25em;box-sizing: border-box;margin-bottom: 0.5em;}#sk-container-id-1 div.sk-estimator:hover {background-color: #d4ebff;}#sk-container-id-1 div.sk-parallel-item::after {content: \"\";width: 100%;border-bottom: 1px solid gray;flex-grow: 1;}#sk-container-id-1 div.sk-label:hover label.sk-toggleable__label {background-color: #d4ebff;}#sk-container-id-1 div.sk-serial::before {content: \"\";position: absolute;border-left: 1px solid gray;box-sizing: border-box;top: 0;bottom: 0;left: 50%;z-index: 0;}#sk-container-id-1 div.sk-serial {display: flex;flex-direction: column;align-items: center;background-color: white;padding-right: 0.2em;padding-left: 0.2em;position: relative;}#sk-container-id-1 div.sk-item {position: relative;z-index: 1;}#sk-container-id-1 div.sk-parallel {display: flex;align-items: stretch;justify-content: center;background-color: white;position: relative;}#sk-container-id-1 div.sk-item::before, #sk-container-id-1 div.sk-parallel-item::before {content: \"\";position: absolute;border-left: 1px solid gray;box-sizing: border-box;top: 0;bottom: 0;left: 50%;z-index: -1;}#sk-container-id-1 div.sk-parallel-item {display: flex;flex-direction: column;z-index: 1;position: relative;background-color: white;}#sk-container-id-1 div.sk-parallel-item:first-child::after {align-self: flex-end;width: 50%;}#sk-container-id-1 div.sk-parallel-item:last-child::after {align-self: flex-start;width: 50%;}#sk-container-id-1 div.sk-parallel-item:only-child::after {width: 0;}#sk-container-id-1 div.sk-dashed-wrapped {border: 1px dashed gray;margin: 0 0.4em 0.5em 0.4em;box-sizing: border-box;padding-bottom: 0.4em;background-color: white;}#sk-container-id-1 div.sk-label label {font-family: monospace;font-weight: bold;display: inline-block;line-height: 1.2em;}#sk-container-id-1 div.sk-label-container {text-align: center;}#sk-container-id-1 div.sk-container {/* jupyter's `normalize.less` sets `[hidden] { display: none; }` but bootstrap.min.css set `[hidden] { display: none !important; }` so we also need the `!important` here to be able to override the default hidden behavior on the sphinx rendered scikit-learn.org. See: https://github.com/scikit-learn/scikit-learn/issues/21755 */display: inline-block !important;position: relative;}#sk-container-id-1 div.sk-text-repr-fallback {display: none;}</style><div id=\"sk-container-id-1\" class=\"sk-top-container\"><div class=\"sk-text-repr-fallback\"><pre>GridSearchCV(cv=5,\n",
       "             estimator=Pipeline(steps=[(&#x27;preprocessor&#x27;,\n",
       "                                        ColumnTransformer(transformers=[(&#x27;numeric&#x27;,\n",
       "                                                                         Pipeline(steps=[(&#x27;imputer&#x27;,\n",
       "                                                                                          SimpleImputer()),\n",
       "                                                                                         (&#x27;poli&#x27;,\n",
       "                                                                                          PolynomialFeatures()),\n",
       "                                                                                         (&#x27;scaler&#x27;,\n",
       "                                                                                          RobustScaler()),\n",
       "                                                                                         (&#x27;pca&#x27;,\n",
       "                                                                                          PCA(n_components=6,\n",
       "                                                                                              whiten=True))]),\n",
       "                                                                         [&#x27;Glucose&#x27;,\n",
       "                                                                          &#x27;BMI&#x27;,\n",
       "                                                                          &#x27;Insulin&#x27;,\n",
       "                                                                          &#x27;Pregnancies&#x27;,\n",
       "                                                                          &#x27;SkinThickness&#x27;,\n",
       "                                                                          &#x27;Age&#x27;,\n",
       "                                                                          &#x27;DiabetesPedigreeFunction&#x27;,\n",
       "                                                                          &#x27;BloodPressure&#x27;])])),\n",
       "                                       (&#x27;algoritma&#x27;, SVC(probability=True))]),\n",
       "             param_grid={&#x27;algoritma__C&#x27;: [0.01, 0.1, 1],\n",
       "                         &#x27;algoritma__class_weight&#x27;: [{0: 0.1, 1: 0.9},\n",
       "                                                     {0: 0.2, 1: 0.8},\n",
       "                                                     {0: 0.3, 1: 0.7}],\n",
       "                         &#x27;algoritma__gamma&#x27;: [0.01, 0.1, 1],\n",
       "                         &#x27;algoritma__kernel&#x27;: [&#x27;linear&#x27;, &#x27;sigmoid&#x27;, &#x27;rbf&#x27;]},\n",
       "             scoring=&#x27;f1&#x27;)</pre><b>In a Jupyter environment, please rerun this cell to show the HTML representation or trust the notebook. <br />On GitHub, the HTML representation is unable to render, please try loading this page with nbviewer.org.</b></div><div class=\"sk-container\" hidden><div class=\"sk-item sk-dashed-wrapped\"><div class=\"sk-label-container\"><div class=\"sk-label sk-toggleable\"><input class=\"sk-toggleable__control sk-hidden--visually\" id=\"sk-estimator-id-1\" type=\"checkbox\" ><label for=\"sk-estimator-id-1\" class=\"sk-toggleable__label sk-toggleable__label-arrow\">GridSearchCV</label><div class=\"sk-toggleable__content\"><pre>GridSearchCV(cv=5,\n",
       "             estimator=Pipeline(steps=[(&#x27;preprocessor&#x27;,\n",
       "                                        ColumnTransformer(transformers=[(&#x27;numeric&#x27;,\n",
       "                                                                         Pipeline(steps=[(&#x27;imputer&#x27;,\n",
       "                                                                                          SimpleImputer()),\n",
       "                                                                                         (&#x27;poli&#x27;,\n",
       "                                                                                          PolynomialFeatures()),\n",
       "                                                                                         (&#x27;scaler&#x27;,\n",
       "                                                                                          RobustScaler()),\n",
       "                                                                                         (&#x27;pca&#x27;,\n",
       "                                                                                          PCA(n_components=6,\n",
       "                                                                                              whiten=True))]),\n",
       "                                                                         [&#x27;Glucose&#x27;,\n",
       "                                                                          &#x27;BMI&#x27;,\n",
       "                                                                          &#x27;Insulin&#x27;,\n",
       "                                                                          &#x27;Pregnancies&#x27;,\n",
       "                                                                          &#x27;SkinThickness&#x27;,\n",
       "                                                                          &#x27;Age&#x27;,\n",
       "                                                                          &#x27;DiabetesPedigreeFunction&#x27;,\n",
       "                                                                          &#x27;BloodPressure&#x27;])])),\n",
       "                                       (&#x27;algoritma&#x27;, SVC(probability=True))]),\n",
       "             param_grid={&#x27;algoritma__C&#x27;: [0.01, 0.1, 1],\n",
       "                         &#x27;algoritma__class_weight&#x27;: [{0: 0.1, 1: 0.9},\n",
       "                                                     {0: 0.2, 1: 0.8},\n",
       "                                                     {0: 0.3, 1: 0.7}],\n",
       "                         &#x27;algoritma__gamma&#x27;: [0.01, 0.1, 1],\n",
       "                         &#x27;algoritma__kernel&#x27;: [&#x27;linear&#x27;, &#x27;sigmoid&#x27;, &#x27;rbf&#x27;]},\n",
       "             scoring=&#x27;f1&#x27;)</pre></div></div></div><div class=\"sk-parallel\"><div class=\"sk-parallel-item\"><div class=\"sk-item\"><div class=\"sk-label-container\"><div class=\"sk-label sk-toggleable\"><input class=\"sk-toggleable__control sk-hidden--visually\" id=\"sk-estimator-id-2\" type=\"checkbox\" ><label for=\"sk-estimator-id-2\" class=\"sk-toggleable__label sk-toggleable__label-arrow\">estimator: Pipeline</label><div class=\"sk-toggleable__content\"><pre>Pipeline(steps=[(&#x27;preprocessor&#x27;,\n",
       "                 ColumnTransformer(transformers=[(&#x27;numeric&#x27;,\n",
       "                                                  Pipeline(steps=[(&#x27;imputer&#x27;,\n",
       "                                                                   SimpleImputer()),\n",
       "                                                                  (&#x27;poli&#x27;,\n",
       "                                                                   PolynomialFeatures()),\n",
       "                                                                  (&#x27;scaler&#x27;,\n",
       "                                                                   RobustScaler()),\n",
       "                                                                  (&#x27;pca&#x27;,\n",
       "                                                                   PCA(n_components=6,\n",
       "                                                                       whiten=True))]),\n",
       "                                                  [&#x27;Glucose&#x27;, &#x27;BMI&#x27;, &#x27;Insulin&#x27;,\n",
       "                                                   &#x27;Pregnancies&#x27;,\n",
       "                                                   &#x27;SkinThickness&#x27;, &#x27;Age&#x27;,\n",
       "                                                   &#x27;DiabetesPedigreeFunction&#x27;,\n",
       "                                                   &#x27;BloodPressure&#x27;])])),\n",
       "                (&#x27;algoritma&#x27;, SVC(probability=True))])</pre></div></div></div><div class=\"sk-serial\"><div class=\"sk-item\"><div class=\"sk-serial\"><div class=\"sk-item sk-dashed-wrapped\"><div class=\"sk-label-container\"><div class=\"sk-label sk-toggleable\"><input class=\"sk-toggleable__control sk-hidden--visually\" id=\"sk-estimator-id-3\" type=\"checkbox\" ><label for=\"sk-estimator-id-3\" class=\"sk-toggleable__label sk-toggleable__label-arrow\">preprocessor: ColumnTransformer</label><div class=\"sk-toggleable__content\"><pre>ColumnTransformer(transformers=[(&#x27;numeric&#x27;,\n",
       "                                 Pipeline(steps=[(&#x27;imputer&#x27;, SimpleImputer()),\n",
       "                                                 (&#x27;poli&#x27;, PolynomialFeatures()),\n",
       "                                                 (&#x27;scaler&#x27;, RobustScaler()),\n",
       "                                                 (&#x27;pca&#x27;,\n",
       "                                                  PCA(n_components=6,\n",
       "                                                      whiten=True))]),\n",
       "                                 [&#x27;Glucose&#x27;, &#x27;BMI&#x27;, &#x27;Insulin&#x27;, &#x27;Pregnancies&#x27;,\n",
       "                                  &#x27;SkinThickness&#x27;, &#x27;Age&#x27;,\n",
       "                                  &#x27;DiabetesPedigreeFunction&#x27;,\n",
       "                                  &#x27;BloodPressure&#x27;])])</pre></div></div></div><div class=\"sk-parallel\"><div class=\"sk-parallel-item\"><div class=\"sk-item\"><div class=\"sk-label-container\"><div class=\"sk-label sk-toggleable\"><input class=\"sk-toggleable__control sk-hidden--visually\" id=\"sk-estimator-id-4\" type=\"checkbox\" ><label for=\"sk-estimator-id-4\" class=\"sk-toggleable__label sk-toggleable__label-arrow\">numeric</label><div class=\"sk-toggleable__content\"><pre>[&#x27;Glucose&#x27;, &#x27;BMI&#x27;, &#x27;Insulin&#x27;, &#x27;Pregnancies&#x27;, &#x27;SkinThickness&#x27;, &#x27;Age&#x27;, &#x27;DiabetesPedigreeFunction&#x27;, &#x27;BloodPressure&#x27;]</pre></div></div></div><div class=\"sk-serial\"><div class=\"sk-item\"><div class=\"sk-serial\"><div class=\"sk-item\"><div class=\"sk-estimator sk-toggleable\"><input class=\"sk-toggleable__control sk-hidden--visually\" id=\"sk-estimator-id-5\" type=\"checkbox\" ><label for=\"sk-estimator-id-5\" class=\"sk-toggleable__label sk-toggleable__label-arrow\">SimpleImputer</label><div class=\"sk-toggleable__content\"><pre>SimpleImputer()</pre></div></div></div><div class=\"sk-item\"><div class=\"sk-estimator sk-toggleable\"><input class=\"sk-toggleable__control sk-hidden--visually\" id=\"sk-estimator-id-6\" type=\"checkbox\" ><label for=\"sk-estimator-id-6\" class=\"sk-toggleable__label sk-toggleable__label-arrow\">PolynomialFeatures</label><div class=\"sk-toggleable__content\"><pre>PolynomialFeatures()</pre></div></div></div><div class=\"sk-item\"><div class=\"sk-estimator sk-toggleable\"><input class=\"sk-toggleable__control sk-hidden--visually\" id=\"sk-estimator-id-7\" type=\"checkbox\" ><label for=\"sk-estimator-id-7\" class=\"sk-toggleable__label sk-toggleable__label-arrow\">RobustScaler</label><div class=\"sk-toggleable__content\"><pre>RobustScaler()</pre></div></div></div><div class=\"sk-item\"><div class=\"sk-estimator sk-toggleable\"><input class=\"sk-toggleable__control sk-hidden--visually\" id=\"sk-estimator-id-8\" type=\"checkbox\" ><label for=\"sk-estimator-id-8\" class=\"sk-toggleable__label sk-toggleable__label-arrow\">PCA</label><div class=\"sk-toggleable__content\"><pre>PCA(n_components=6, whiten=True)</pre></div></div></div></div></div></div></div></div></div></div><div class=\"sk-item\"><div class=\"sk-estimator sk-toggleable\"><input class=\"sk-toggleable__control sk-hidden--visually\" id=\"sk-estimator-id-9\" type=\"checkbox\" ><label for=\"sk-estimator-id-9\" class=\"sk-toggleable__label sk-toggleable__label-arrow\">SVC</label><div class=\"sk-toggleable__content\"><pre>SVC(probability=True)</pre></div></div></div></div></div></div></div></div></div></div></div></div>"
      ],
      "text/plain": [
       "GridSearchCV(cv=5,\n",
       "             estimator=Pipeline(steps=[('preprocessor',\n",
       "                                        ColumnTransformer(transformers=[('numeric',\n",
       "                                                                         Pipeline(steps=[('imputer',\n",
       "                                                                                          SimpleImputer()),\n",
       "                                                                                         ('poli',\n",
       "                                                                                          PolynomialFeatures()),\n",
       "                                                                                         ('scaler',\n",
       "                                                                                          RobustScaler()),\n",
       "                                                                                         ('pca',\n",
       "                                                                                          PCA(n_components=6,\n",
       "                                                                                              whiten=True))]),\n",
       "                                                                         ['Glucose',\n",
       "                                                                          'BMI',\n",
       "                                                                          'Insulin',\n",
       "                                                                          'Pregnancies',\n",
       "                                                                          'SkinThickness',\n",
       "                                                                          'Age',\n",
       "                                                                          'DiabetesPedigreeFunction',\n",
       "                                                                          'BloodPressure'])])),\n",
       "                                       ('algoritma', SVC(probability=True))]),\n",
       "             param_grid={'algoritma__C': [0.01, 0.1, 1],\n",
       "                         'algoritma__class_weight': [{0: 0.1, 1: 0.9},\n",
       "                                                     {0: 0.2, 1: 0.8},\n",
       "                                                     {0: 0.3, 1: 0.7}],\n",
       "                         'algoritma__gamma': [0.01, 0.1, 1],\n",
       "                         'algoritma__kernel': ['linear', 'sigmoid', 'rbf']},\n",
       "             scoring='f1')"
      ]
     },
     "execution_count": 19,
     "metadata": {},
     "output_type": "execute_result"
    }
   ],
   "source": [
    "%%time\n",
    "model.fit(X_train, y_train)"
   ]
  },
  {
   "cell_type": "code",
   "execution_count": 20,
   "id": "caf35880",
   "metadata": {},
   "outputs": [
    {
     "data": {
      "text/plain": [
       "{'algoritma__C': 1,\n",
       " 'algoritma__class_weight': {0: 0.3, 1: 0.7},\n",
       " 'algoritma__gamma': 0.1,\n",
       " 'algoritma__kernel': 'rbf'}"
      ]
     },
     "execution_count": 20,
     "metadata": {},
     "output_type": "execute_result"
    }
   ],
   "source": [
    "model.best_params_"
   ]
  },
  {
   "cell_type": "code",
   "execution_count": 32,
   "id": "67b259ec",
   "metadata": {},
   "outputs": [
    {
     "data": {
      "text/html": [
       "<div>\n",
       "<style scoped>\n",
       "    .dataframe tbody tr th:only-of-type {\n",
       "        vertical-align: middle;\n",
       "    }\n",
       "\n",
       "    .dataframe tbody tr th {\n",
       "        vertical-align: top;\n",
       "    }\n",
       "\n",
       "    .dataframe thead th {\n",
       "        text-align: right;\n",
       "    }\n",
       "</style>\n",
       "<table border=\"1\" class=\"dataframe\">\n",
       "  <thead>\n",
       "    <tr style=\"text-align: right;\">\n",
       "      <th></th>\n",
       "      <th>mean_fit_time</th>\n",
       "      <th>std_fit_time</th>\n",
       "      <th>mean_score_time</th>\n",
       "      <th>std_score_time</th>\n",
       "      <th>param_algoritma__C</th>\n",
       "      <th>param_algoritma__class_weight</th>\n",
       "      <th>param_algoritma__gamma</th>\n",
       "      <th>param_algoritma__kernel</th>\n",
       "      <th>params</th>\n",
       "      <th>split0_test_score</th>\n",
       "      <th>split1_test_score</th>\n",
       "      <th>split2_test_score</th>\n",
       "      <th>split3_test_score</th>\n",
       "      <th>split4_test_score</th>\n",
       "      <th>mean_test_score</th>\n",
       "      <th>std_test_score</th>\n",
       "      <th>rank_test_score</th>\n",
       "    </tr>\n",
       "  </thead>\n",
       "  <tbody>\n",
       "    <tr>\n",
       "      <th>77</th>\n",
       "      <td>0.057778</td>\n",
       "      <td>0.012319</td>\n",
       "      <td>0.007078</td>\n",
       "      <td>0.003793</td>\n",
       "      <td>1</td>\n",
       "      <td>{0: 0.3, 1: 0.7}</td>\n",
       "      <td>0.1</td>\n",
       "      <td>rbf</td>\n",
       "      <td>{'algoritma__C': 1, 'algoritma__class_weight':...</td>\n",
       "      <td>0.653846</td>\n",
       "      <td>0.693878</td>\n",
       "      <td>0.653061</td>\n",
       "      <td>0.666667</td>\n",
       "      <td>0.638298</td>\n",
       "      <td>0.661150</td>\n",
       "      <td>0.018668</td>\n",
       "      <td>1</td>\n",
       "    </tr>\n",
       "    <tr>\n",
       "      <th>45</th>\n",
       "      <td>0.032764</td>\n",
       "      <td>0.004458</td>\n",
       "      <td>0.003529</td>\n",
       "      <td>0.003006</td>\n",
       "      <td>0.1</td>\n",
       "      <td>{0: 0.3, 1: 0.7}</td>\n",
       "      <td>0.01</td>\n",
       "      <td>linear</td>\n",
       "      <td>{'algoritma__C': 0.1, 'algoritma__class_weight...</td>\n",
       "      <td>0.673913</td>\n",
       "      <td>0.697674</td>\n",
       "      <td>0.652632</td>\n",
       "      <td>0.674419</td>\n",
       "      <td>0.597701</td>\n",
       "      <td>0.659268</td>\n",
       "      <td>0.033922</td>\n",
       "      <td>2</td>\n",
       "    </tr>\n",
       "    <tr>\n",
       "      <th>48</th>\n",
       "      <td>0.030890</td>\n",
       "      <td>0.001456</td>\n",
       "      <td>0.005084</td>\n",
       "      <td>0.004257</td>\n",
       "      <td>0.1</td>\n",
       "      <td>{0: 0.3, 1: 0.7}</td>\n",
       "      <td>0.1</td>\n",
       "      <td>linear</td>\n",
       "      <td>{'algoritma__C': 0.1, 'algoritma__class_weight...</td>\n",
       "      <td>0.673913</td>\n",
       "      <td>0.697674</td>\n",
       "      <td>0.652632</td>\n",
       "      <td>0.674419</td>\n",
       "      <td>0.597701</td>\n",
       "      <td>0.659268</td>\n",
       "      <td>0.033922</td>\n",
       "      <td>2</td>\n",
       "    </tr>\n",
       "    <tr>\n",
       "      <th>51</th>\n",
       "      <td>0.039558</td>\n",
       "      <td>0.012190</td>\n",
       "      <td>0.004603</td>\n",
       "      <td>0.003860</td>\n",
       "      <td>0.1</td>\n",
       "      <td>{0: 0.3, 1: 0.7}</td>\n",
       "      <td>1</td>\n",
       "      <td>linear</td>\n",
       "      <td>{'algoritma__C': 0.1, 'algoritma__class_weight...</td>\n",
       "      <td>0.673913</td>\n",
       "      <td>0.697674</td>\n",
       "      <td>0.652632</td>\n",
       "      <td>0.674419</td>\n",
       "      <td>0.597701</td>\n",
       "      <td>0.659268</td>\n",
       "      <td>0.033922</td>\n",
       "      <td>2</td>\n",
       "    </tr>\n",
       "    <tr>\n",
       "      <th>76</th>\n",
       "      <td>0.044923</td>\n",
       "      <td>0.002996</td>\n",
       "      <td>0.005148</td>\n",
       "      <td>0.003309</td>\n",
       "      <td>1</td>\n",
       "      <td>{0: 0.3, 1: 0.7}</td>\n",
       "      <td>0.1</td>\n",
       "      <td>sigmoid</td>\n",
       "      <td>{'algoritma__C': 1, 'algoritma__class_weight':...</td>\n",
       "      <td>0.645161</td>\n",
       "      <td>0.638298</td>\n",
       "      <td>0.666667</td>\n",
       "      <td>0.689655</td>\n",
       "      <td>0.635294</td>\n",
       "      <td>0.655015</td>\n",
       "      <td>0.020500</td>\n",
       "      <td>5</td>\n",
       "    </tr>\n",
       "  </tbody>\n",
       "</table>\n",
       "</div>"
      ],
      "text/plain": [
       "    mean_fit_time  std_fit_time  mean_score_time  std_score_time  \\\n",
       "77       0.057778      0.012319         0.007078        0.003793   \n",
       "45       0.032764      0.004458         0.003529        0.003006   \n",
       "48       0.030890      0.001456         0.005084        0.004257   \n",
       "51       0.039558      0.012190         0.004603        0.003860   \n",
       "76       0.044923      0.002996         0.005148        0.003309   \n",
       "\n",
       "   param_algoritma__C param_algoritma__class_weight param_algoritma__gamma  \\\n",
       "77                  1              {0: 0.3, 1: 0.7}                    0.1   \n",
       "45                0.1              {0: 0.3, 1: 0.7}                   0.01   \n",
       "48                0.1              {0: 0.3, 1: 0.7}                    0.1   \n",
       "51                0.1              {0: 0.3, 1: 0.7}                      1   \n",
       "76                  1              {0: 0.3, 1: 0.7}                    0.1   \n",
       "\n",
       "   param_algoritma__kernel                                             params  \\\n",
       "77                     rbf  {'algoritma__C': 1, 'algoritma__class_weight':...   \n",
       "45                  linear  {'algoritma__C': 0.1, 'algoritma__class_weight...   \n",
       "48                  linear  {'algoritma__C': 0.1, 'algoritma__class_weight...   \n",
       "51                  linear  {'algoritma__C': 0.1, 'algoritma__class_weight...   \n",
       "76                 sigmoid  {'algoritma__C': 1, 'algoritma__class_weight':...   \n",
       "\n",
       "    split0_test_score  split1_test_score  split2_test_score  \\\n",
       "77           0.653846           0.693878           0.653061   \n",
       "45           0.673913           0.697674           0.652632   \n",
       "48           0.673913           0.697674           0.652632   \n",
       "51           0.673913           0.697674           0.652632   \n",
       "76           0.645161           0.638298           0.666667   \n",
       "\n",
       "    split3_test_score  split4_test_score  mean_test_score  std_test_score  \\\n",
       "77           0.666667           0.638298         0.661150        0.018668   \n",
       "45           0.674419           0.597701         0.659268        0.033922   \n",
       "48           0.674419           0.597701         0.659268        0.033922   \n",
       "51           0.674419           0.597701         0.659268        0.033922   \n",
       "76           0.689655           0.635294         0.655015        0.020500   \n",
       "\n",
       "    rank_test_score  \n",
       "77                1  \n",
       "45                2  \n",
       "48                2  \n",
       "51                2  \n",
       "76                5  "
      ]
     },
     "execution_count": 32,
     "metadata": {},
     "output_type": "execute_result"
    }
   ],
   "source": [
    "pd.DataFrame(model.cv_results_).sort_values('rank_test_score').head()"
   ]
  },
  {
   "cell_type": "code",
   "execution_count": 22,
   "id": "18bdd056",
   "metadata": {},
   "outputs": [
    {
     "data": {
      "text/html": [
       "<div>\n",
       "<style scoped>\n",
       "    .dataframe tbody tr th:only-of-type {\n",
       "        vertical-align: middle;\n",
       "    }\n",
       "\n",
       "    .dataframe tbody tr th {\n",
       "        vertical-align: top;\n",
       "    }\n",
       "\n",
       "    .dataframe thead th {\n",
       "        text-align: right;\n",
       "    }\n",
       "</style>\n",
       "<table border=\"1\" class=\"dataframe\">\n",
       "  <thead>\n",
       "    <tr style=\"text-align: right;\">\n",
       "      <th></th>\n",
       "      <th>mean_fit_time</th>\n",
       "      <th>std_fit_time</th>\n",
       "      <th>mean_score_time</th>\n",
       "      <th>std_score_time</th>\n",
       "      <th>param_algoritma__C</th>\n",
       "      <th>param_algoritma__class_weight</th>\n",
       "      <th>param_algoritma__gamma</th>\n",
       "      <th>param_algoritma__kernel</th>\n",
       "      <th>params</th>\n",
       "      <th>split0_test_score</th>\n",
       "      <th>split1_test_score</th>\n",
       "      <th>split2_test_score</th>\n",
       "      <th>split3_test_score</th>\n",
       "      <th>split4_test_score</th>\n",
       "      <th>mean_test_score</th>\n",
       "      <th>std_test_score</th>\n",
       "      <th>rank_test_score</th>\n",
       "    </tr>\n",
       "  </thead>\n",
       "  <tbody>\n",
       "    <tr>\n",
       "      <th>77</th>\n",
       "      <td>0.057778</td>\n",
       "      <td>0.012319</td>\n",
       "      <td>0.007078</td>\n",
       "      <td>0.003793</td>\n",
       "      <td>1</td>\n",
       "      <td>{0: 0.3, 1: 0.7}</td>\n",
       "      <td>0.1</td>\n",
       "      <td>rbf</td>\n",
       "      <td>{'algoritma__C': 1, 'algoritma__class_weight':...</td>\n",
       "      <td>0.653846</td>\n",
       "      <td>0.693878</td>\n",
       "      <td>0.653061</td>\n",
       "      <td>0.666667</td>\n",
       "      <td>0.638298</td>\n",
       "      <td>0.661150</td>\n",
       "      <td>0.018668</td>\n",
       "      <td>1</td>\n",
       "    </tr>\n",
       "    <tr>\n",
       "      <th>45</th>\n",
       "      <td>0.032764</td>\n",
       "      <td>0.004458</td>\n",
       "      <td>0.003529</td>\n",
       "      <td>0.003006</td>\n",
       "      <td>0.1</td>\n",
       "      <td>{0: 0.3, 1: 0.7}</td>\n",
       "      <td>0.01</td>\n",
       "      <td>linear</td>\n",
       "      <td>{'algoritma__C': 0.1, 'algoritma__class_weight...</td>\n",
       "      <td>0.673913</td>\n",
       "      <td>0.697674</td>\n",
       "      <td>0.652632</td>\n",
       "      <td>0.674419</td>\n",
       "      <td>0.597701</td>\n",
       "      <td>0.659268</td>\n",
       "      <td>0.033922</td>\n",
       "      <td>2</td>\n",
       "    </tr>\n",
       "    <tr>\n",
       "      <th>48</th>\n",
       "      <td>0.030890</td>\n",
       "      <td>0.001456</td>\n",
       "      <td>0.005084</td>\n",
       "      <td>0.004257</td>\n",
       "      <td>0.1</td>\n",
       "      <td>{0: 0.3, 1: 0.7}</td>\n",
       "      <td>0.1</td>\n",
       "      <td>linear</td>\n",
       "      <td>{'algoritma__C': 0.1, 'algoritma__class_weight...</td>\n",
       "      <td>0.673913</td>\n",
       "      <td>0.697674</td>\n",
       "      <td>0.652632</td>\n",
       "      <td>0.674419</td>\n",
       "      <td>0.597701</td>\n",
       "      <td>0.659268</td>\n",
       "      <td>0.033922</td>\n",
       "      <td>2</td>\n",
       "    </tr>\n",
       "    <tr>\n",
       "      <th>51</th>\n",
       "      <td>0.039558</td>\n",
       "      <td>0.012190</td>\n",
       "      <td>0.004603</td>\n",
       "      <td>0.003860</td>\n",
       "      <td>0.1</td>\n",
       "      <td>{0: 0.3, 1: 0.7}</td>\n",
       "      <td>1</td>\n",
       "      <td>linear</td>\n",
       "      <td>{'algoritma__C': 0.1, 'algoritma__class_weight...</td>\n",
       "      <td>0.673913</td>\n",
       "      <td>0.697674</td>\n",
       "      <td>0.652632</td>\n",
       "      <td>0.674419</td>\n",
       "      <td>0.597701</td>\n",
       "      <td>0.659268</td>\n",
       "      <td>0.033922</td>\n",
       "      <td>2</td>\n",
       "    </tr>\n",
       "    <tr>\n",
       "      <th>76</th>\n",
       "      <td>0.044923</td>\n",
       "      <td>0.002996</td>\n",
       "      <td>0.005148</td>\n",
       "      <td>0.003309</td>\n",
       "      <td>1</td>\n",
       "      <td>{0: 0.3, 1: 0.7}</td>\n",
       "      <td>0.1</td>\n",
       "      <td>sigmoid</td>\n",
       "      <td>{'algoritma__C': 1, 'algoritma__class_weight':...</td>\n",
       "      <td>0.645161</td>\n",
       "      <td>0.638298</td>\n",
       "      <td>0.666667</td>\n",
       "      <td>0.689655</td>\n",
       "      <td>0.635294</td>\n",
       "      <td>0.655015</td>\n",
       "      <td>0.020500</td>\n",
       "      <td>5</td>\n",
       "    </tr>\n",
       "  </tbody>\n",
       "</table>\n",
       "</div>"
      ],
      "text/plain": [
       "    mean_fit_time  std_fit_time  mean_score_time  std_score_time  \\\n",
       "77       0.057778      0.012319         0.007078        0.003793   \n",
       "45       0.032764      0.004458         0.003529        0.003006   \n",
       "48       0.030890      0.001456         0.005084        0.004257   \n",
       "51       0.039558      0.012190         0.004603        0.003860   \n",
       "76       0.044923      0.002996         0.005148        0.003309   \n",
       "\n",
       "   param_algoritma__C param_algoritma__class_weight param_algoritma__gamma  \\\n",
       "77                  1              {0: 0.3, 1: 0.7}                    0.1   \n",
       "45                0.1              {0: 0.3, 1: 0.7}                   0.01   \n",
       "48                0.1              {0: 0.3, 1: 0.7}                    0.1   \n",
       "51                0.1              {0: 0.3, 1: 0.7}                      1   \n",
       "76                  1              {0: 0.3, 1: 0.7}                    0.1   \n",
       "\n",
       "   param_algoritma__kernel                                             params  \\\n",
       "77                     rbf  {'algoritma__C': 1, 'algoritma__class_weight':...   \n",
       "45                  linear  {'algoritma__C': 0.1, 'algoritma__class_weight...   \n",
       "48                  linear  {'algoritma__C': 0.1, 'algoritma__class_weight...   \n",
       "51                  linear  {'algoritma__C': 0.1, 'algoritma__class_weight...   \n",
       "76                 sigmoid  {'algoritma__C': 1, 'algoritma__class_weight':...   \n",
       "\n",
       "    split0_test_score  split1_test_score  split2_test_score  \\\n",
       "77           0.653846           0.693878           0.653061   \n",
       "45           0.673913           0.697674           0.652632   \n",
       "48           0.673913           0.697674           0.652632   \n",
       "51           0.673913           0.697674           0.652632   \n",
       "76           0.645161           0.638298           0.666667   \n",
       "\n",
       "    split3_test_score  split4_test_score  mean_test_score  std_test_score  \\\n",
       "77           0.666667           0.638298         0.661150        0.018668   \n",
       "45           0.674419           0.597701         0.659268        0.033922   \n",
       "48           0.674419           0.597701         0.659268        0.033922   \n",
       "51           0.674419           0.597701         0.659268        0.033922   \n",
       "76           0.689655           0.635294         0.655015        0.020500   \n",
       "\n",
       "    rank_test_score  \n",
       "77                1  \n",
       "45                2  \n",
       "48                2  \n",
       "51                2  \n",
       "76                5  "
      ]
     },
     "execution_count": 22,
     "metadata": {},
     "output_type": "execute_result"
    }
   ],
   "source": [
    "pd.DataFrame(model.cv_results_).sort_values('rank_test_score').head()"
   ]
  },
  {
   "cell_type": "code",
   "execution_count": 33,
   "id": "8a8dccfd",
   "metadata": {},
   "outputs": [],
   "source": [
    "filename = 'SVM_Model.sav'\n",
    "pickle.dump(model, open(filename, 'wb'))"
   ]
  },
  {
   "cell_type": "markdown",
   "id": "0bb07b1c",
   "metadata": {},
   "source": [
    "# Matrix Confusion"
   ]
  },
  {
   "cell_type": "markdown",
   "id": "9decca73",
   "metadata": {},
   "source": [
    "# All Data"
   ]
  },
  {
   "cell_type": "code",
   "execution_count": 29,
   "id": "70086cd3",
   "metadata": {},
   "outputs": [
    {
     "name": "stdout",
     "output_type": "stream",
     "text": [
      "              precision    recall  f1-score   support\n",
      "\n",
      "         0.0       0.90      0.62      0.73       500\n",
      "         1.0       0.55      0.87      0.67       268\n",
      "\n",
      "    accuracy                           0.71       768\n",
      "   macro avg       0.72      0.74      0.70       768\n",
      "weighted avg       0.78      0.71      0.71       768\n",
      "\n"
     ]
    }
   ],
   "source": [
    "y_pred_svm      = model.predict(X)\n",
    "\n",
    "df_pred = pd.DataFrame()\n",
    "df_pred['y_test'] = y\n",
    "df_pred['y_pred_svm'] = y_pred_svm\n",
    "\n",
    "print(classification_report(y, y_pred_svm))"
   ]
  },
  {
   "cell_type": "markdown",
   "id": "c64fa592",
   "metadata": {},
   "source": [
    "# Train Data"
   ]
  },
  {
   "cell_type": "code",
   "execution_count": 30,
   "id": "38f965b3",
   "metadata": {},
   "outputs": [
    {
     "name": "stdout",
     "output_type": "stream",
     "text": [
      "              precision    recall  f1-score   support\n",
      "\n",
      "         0.0       0.89      0.63      0.74       348\n",
      "         1.0       0.56      0.86      0.68       189\n",
      "\n",
      "    accuracy                           0.71       537\n",
      "   macro avg       0.72      0.74      0.71       537\n",
      "weighted avg       0.77      0.71      0.72       537\n",
      "\n"
     ]
    }
   ],
   "source": [
    "y_pred_svm_train      = model.predict(X_train)\n",
    "\n",
    "df_pred = pd.DataFrame()\n",
    "df_pred['y_test'] = y_train\n",
    "df_pred['y_pred_svm_train'] = y_pred_svm_train\n",
    "\n",
    "print(classification_report(y_train, y_pred_svm_train))"
   ]
  },
  {
   "cell_type": "markdown",
   "id": "dbda195b",
   "metadata": {},
   "source": [
    "# Test Data"
   ]
  },
  {
   "cell_type": "code",
   "execution_count": 31,
   "id": "d3edbc0f",
   "metadata": {},
   "outputs": [
    {
     "name": "stdout",
     "output_type": "stream",
     "text": [
      "              precision    recall  f1-score   support\n",
      "\n",
      "         0.0       0.90      0.61      0.72       152\n",
      "         1.0       0.53      0.87      0.66        79\n",
      "\n",
      "    accuracy                           0.70       231\n",
      "   macro avg       0.72      0.74      0.69       231\n",
      "weighted avg       0.78      0.70      0.70       231\n",
      "\n"
     ]
    }
   ],
   "source": [
    "y_pred_svm_test      = model.predict(X_test)\n",
    "\n",
    "df_pred = pd.DataFrame()\n",
    "df_pred['y_test'] = y_test\n",
    "df_pred['y_pred_svm_test '] = y_pred_svm_test \n",
    "\n",
    "print(classification_report(y_test, y_pred_svm_test))"
   ]
  },
  {
   "cell_type": "markdown",
   "id": "38035ba1",
   "metadata": {},
   "source": [
    "# ROC and AUC"
   ]
  },
  {
   "cell_type": "markdown",
   "id": "0bb63fc5",
   "metadata": {},
   "source": [
    "https://scikit-learn.org/stable/auto_examples/model_selection/plot_roc.html"
   ]
  },
  {
   "cell_type": "code",
   "execution_count": 27,
   "id": "8e29d47d",
   "metadata": {},
   "outputs": [
    {
     "data": {
      "image/png": "[encoded data removed]",
      "text/plain": [
       "<Figure size 500x500 with 1 Axes>"
      ]
     },
     "metadata": {},
     "output_type": "display_data"
    }
   ],
   "source": [
    "from sklearn.metrics import roc_curve, auc\n",
    "\n",
    "plt.figure(figsize=(5, 5), dpi=100)\n",
    "\n",
    "# SVM\n",
    "svm_fpr, svm_tpr, threshold = roc_curve(y_test, y_pred_svm)\n",
    "auc_svm = auc(svm_fpr, svm_tpr)\n",
    "\n",
    "plt.plot(svm_fpr, svm_tpr, marker='.', label='SVM (auc = %0.3f)' % auc_svm)\n",
    "\n",
    "plt.xlabel('False Positive Rate -->')\n",
    "plt.ylabel('True Positive Rate -->')\n",
    "\n",
    "plt.legend()\n",
    "\n",
    "plt.show()"
   ]
  }
 ],
 "metadata": {
  "kernelspec": {
   "display_name": "Python 3 (ipykernel)",
   "language": "python",
   "name": "python3"
  },
  "language_info": {
   "codemirror_mode": {
    "name": "ipython",
    "version": 3
   },
   "file_extension": ".py",
   "mimetype": "text/x-python",
   "name": "python",
   "nbconvert_exporter": "python",
   "pygments_lexer": "ipython3",
   "version": "3.11.1"
  }
 },
 "nbformat": 4,
 "nbformat_minor": 5
}
